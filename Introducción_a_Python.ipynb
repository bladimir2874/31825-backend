{
  "cells": [
    {
      "cell_type": "markdown",
      "metadata": {
        "id": "view-in-github",
        "colab_type": "text"
      },
      "source": [
        "<a href=\"https://colab.research.google.com/github/bladimir2874/31825-backend/blob/main/Introducci%C3%B3n_a_Python.ipynb\" target=\"_parent\"><img src=\"https://colab.research.google.com/assets/colab-badge.svg\" alt=\"Open In Colab\"/></a>"
      ]
    },
    {
      "cell_type": "markdown",
      "id": "b8f22f4f",
      "metadata": {
        "id": "b8f22f4f"
      },
      "source": [
        "# CONTENIDO \n",
        "\n",
        "- Definiciónes basicas: variables y tipos de datos. \n",
        "- Operaciones entre variables. \n",
        "- Condicionales. \n",
        "- Iteraciones: while y for.\n",
        "- Funciones.\n",
        "- Anexos: Ejemplos delibrerias, recursos como libros, paginas web. "
      ]
    },
    {
      "cell_type": "code",
      "source": [
        "x=1\n"
      ],
      "metadata": {
        "id": "7GPME3Txtjyl"
      },
      "id": "7GPME3Txtjyl",
      "execution_count": 2,
      "outputs": []
    },
    {
      "cell_type": "markdown",
      "id": "dc649124",
      "metadata": {
        "id": "dc649124"
      },
      "source": [
        "## DEFINICIONES BASICAS\n",
        "\n",
        "\n",
        "### Variable: \n",
        "Espacio en memoria representado por un nombre que permite almacenar información de un valor. \n",
        "\n",
        "Por ejemplo $$\\mbox{x}=1 ~~\\mbox{y} ~~\\mbox{animal}= \\mbox{'perro'}$$ \n",
        "\n",
        "son dos variables distintas que almacenan información numérica y de texto respectivamente.  \n",
        "\n",
        "### Tipos de datos:\n",
        "\n",
        "Todas las variables tienen un tipo de dato y algunos de los tipos de datos más comunes en python para las variables numéricas o de texto son: enteros, flotantes y cadenas o strings.\n",
        "\n",
        "La forma de asignar un valor a una variable es a traves del simbolo **=** y para conocer el tipo  de dato se utiliza la función **type()**. \n",
        "\n",
        "Además, para conocer el valor de una variable se puede utilizar la función **print()**"
      ]
    },
    {
      "cell_type": "code",
      "execution_count": 1,
      "id": "a291870e",
      "metadata": {
        "colab": {
          "base_uri": "https://localhost:8080/"
        },
        "id": "a291870e",
        "outputId": "f19bce0c-aa0e-4fc4-c7d3-3b697d66e5ed"
      },
      "outputs": [
        {
          "output_type": "stream",
          "name": "stdout",
          "text": [
            "El tipo de dato de la variable x es:  <class 'int'>\n",
            "El valor de la variable x es: 1\n"
          ]
        }
      ],
      "source": [
        "x=1\n",
        "print('El tipo de dato de la variable x es: ', type(x))\n",
        "print('El valor de la variable x es:', x)"
      ]
    },
    {
      "cell_type": "code",
      "execution_count": null,
      "id": "0f3a6865",
      "metadata": {
        "colab": {
          "base_uri": "https://localhost:8080/"
        },
        "id": "0f3a6865",
        "outputId": "6d7f1f97-b3a9-4749-fe63-68558ee19420"
      },
      "outputs": [
        {
          "output_type": "stream",
          "name": "stdout",
          "text": [
            "El tipo de dato de la variable animal es:  <class 'str'>\n"
          ]
        }
      ],
      "source": [
        "animal= 'perro'\n",
        "print('El tipo de dato de la variable animal es: ', type(animal))"
      ]
    },
    {
      "cell_type": "markdown",
      "id": "14a3d3b0",
      "metadata": {
        "id": "14a3d3b0"
      },
      "source": [
        "También existen otro tipo de variables, por ejemplo las variables de tipo booleanas. Estas variables son muy utiles cuando se utilizan condicionales. "
      ]
    },
    {
      "cell_type": "code",
      "execution_count": null,
      "id": "6a3ec310",
      "metadata": {
        "colab": {
          "base_uri": "https://localhost:8080/"
        },
        "id": "6a3ec310",
        "outputId": "30e90384-90ec-430f-9bf2-cbfc5e9b7492"
      },
      "outputs": [
        {
          "output_type": "stream",
          "name": "stdout",
          "text": [
            "El tipo de dato de la variable is_number es:  <class 'bool'>\n"
          ]
        }
      ],
      "source": [
        "is_number = True\n",
        "print('El tipo de dato de la variable is_number es: ', type(is_number))"
      ]
    },
    {
      "cell_type": "markdown",
      "id": "93c9ba85",
      "metadata": {
        "id": "93c9ba85"
      },
      "source": [
        "Una de las grandes ventajas en Python es que no nos obliga a indicar el tipo de una variable cuando se la declara por primera vez y a diferencia de la mayor parte de lenguajes de programación Python permite que sus variables puedan tomar valores de distintos tipos, a esto se le conoce como un lenguaje dinámicamente tipado.   "
      ]
    },
    {
      "cell_type": "code",
      "execution_count": null,
      "id": "b41ba16c",
      "metadata": {
        "colab": {
          "base_uri": "https://localhost:8080/"
        },
        "id": "b41ba16c",
        "outputId": "a57ef7b7-91dc-4df6-a17e-4949fcc8255b"
      },
      "outputs": [
        {
          "output_type": "stream",
          "name": "stdout",
          "text": [
            "<class 'int'>\n",
            "<class 'str'>\n"
          ]
        }
      ],
      "source": [
        "y= -7\n",
        "print(type(y))\n",
        "\n",
        "y= 'texto'\n",
        "print(type(y))"
      ]
    },
    {
      "cell_type": "markdown",
      "id": "eb6980dd",
      "metadata": {
        "id": "eb6980dd"
      },
      "source": [
        "### Asignación de nombre:\n",
        "\n",
        "Para asignar el nombre a una variable pueden ser usados números o letras. Sin embargo, el nombre no puede iniciar con un numero. Adicionalmente existen algunas palabras reservadas que no se pueden usar como nombres de variables."
      ]
    },
    {
      "cell_type": "code",
      "execution_count": null,
      "id": "e2c4c0f7",
      "metadata": {
        "colab": {
          "base_uri": "https://localhost:8080/",
          "height": 131
        },
        "id": "e2c4c0f7",
        "outputId": "9cc41651-648e-4919-a4a7-d9f329400edf"
      },
      "outputs": [
        {
          "output_type": "error",
          "ename": "SyntaxError",
          "evalue": "ignored",
          "traceback": [
            "\u001b[0;36m  File \u001b[0;32m\"<ipython-input-40-7eda51d9a1e4>\"\u001b[0;36m, line \u001b[0;32m1\u001b[0m\n\u001b[0;31m    8variable_name= 12338\u001b[0m\n\u001b[0m                 ^\u001b[0m\n\u001b[0;31mSyntaxError\u001b[0m\u001b[0;31m:\u001b[0m invalid syntax\n"
          ]
        }
      ],
      "source": [
        "8variable_name= 12338"
      ]
    },
    {
      "cell_type": "code",
      "execution_count": null,
      "id": "ac397a22",
      "metadata": {
        "id": "ac397a22",
        "colab": {
          "base_uri": "https://localhost:8080/"
        },
        "outputId": "a1044093-73bf-4c49-b60d-6f75a67787a8"
      },
      "outputs": [
        {
          "output_type": "stream",
          "name": "stdout",
          "text": [
            "12338\n"
          ]
        }
      ],
      "source": [
        "variable_name= 12338\n",
        "print(variable_name)"
      ]
    },
    {
      "cell_type": "code",
      "execution_count": null,
      "id": "fda31243",
      "metadata": {
        "id": "fda31243",
        "colab": {
          "base_uri": "https://localhost:8080/",
          "height": 131
        },
        "outputId": "bfa61d7e-e112-4886-9e27-4304c469e87e"
      },
      "outputs": [
        {
          "output_type": "error",
          "ename": "SyntaxError",
          "evalue": "ignored",
          "traceback": [
            "\u001b[0;36m  File \u001b[0;32m\"<ipython-input-47-1d7a15784be2>\"\u001b[0;36m, line \u001b[0;32m1\u001b[0m\n\u001b[0;31m    lambda = 12338\u001b[0m\n\u001b[0m           ^\u001b[0m\n\u001b[0;31mSyntaxError\u001b[0m\u001b[0;31m:\u001b[0m invalid syntax\n"
          ]
        }
      ],
      "source": [
        "lambda = 12338"
      ]
    },
    {
      "cell_type": "markdown",
      "id": "6064b5ae",
      "metadata": {
        "id": "6064b5ae"
      },
      "source": [
        "## OPERACIONES ENTRE VARIABLES\n",
        "\n",
        "###  Operadores:\n",
        "\n",
        "Simbolos que representan algunas funciones básicas entre valores o variables. Por ejemplo, los operadores **+**, **-**, **\\***, **/** y **\\****  representan la suma, resta, multiplicación, división y exponenciación respectivamente, cuando los valores a operar son numéricos.\n",
        "\n",
        "Ejemplo:\n",
        "\n",
        "\n"
      ]
    },
    {
      "cell_type": "code",
      "execution_count": null,
      "id": "f6842568",
      "metadata": {
        "id": "f6842568",
        "colab": {
          "base_uri": "https://localhost:8080/"
        },
        "outputId": "ee0f5efb-333f-4d31-f477-0465dde4451f"
      },
      "outputs": [
        {
          "output_type": "stream",
          "name": "stdout",
          "text": [
            "3\n",
            "2.0\n",
            "64\n"
          ]
        }
      ],
      "source": [
        "print(1+2)\n",
        "print(6/3)\n",
        "print(4**3)"
      ]
    },
    {
      "cell_type": "code",
      "execution_count": null,
      "id": "3a54a142",
      "metadata": {
        "id": "3a54a142",
        "colab": {
          "base_uri": "https://localhost:8080/"
        },
        "outputId": "b6609d5c-1aeb-4ba7-fecb-eaf08ebdcbbd"
      },
      "outputs": [
        {
          "output_type": "stream",
          "name": "stdout",
          "text": [
            "44\n"
          ]
        }
      ],
      "source": [
        "a= 11\n",
        "b= 4\n",
        "print(a*b)"
      ]
    },
    {
      "cell_type": "markdown",
      "id": "584feef8",
      "metadata": {
        "id": "584feef8"
      },
      "source": [
        "Cuando los valores a operar son de tipo string, operadores como **+** hacen referencia a la concatenación de texto. Por ejemplo: "
      ]
    },
    {
      "cell_type": "code",
      "execution_count": null,
      "id": "e63636a6",
      "metadata": {
        "id": "e63636a6",
        "colab": {
          "base_uri": "https://localhost:8080/"
        },
        "outputId": "a8b46d76-d65c-448f-82fa-8ec23abe850f"
      },
      "outputs": [
        {
          "output_type": "stream",
          "name": "stdout",
          "text": [
            "2\n",
            "11\n",
            "ab2c\n"
          ]
        }
      ],
      "source": [
        "print(1+1)\n",
        "print('1'+'1')\n",
        "print('a'+'b'+'2'+'c')"
      ]
    },
    {
      "cell_type": "markdown",
      "id": "80274a34",
      "metadata": {
        "id": "80274a34"
      },
      "source": [
        "### Operadores Condicionales/Logicos\n",
        "\n",
        "Otro tipo de operadores son los de comparación, que como su nombre lo indica sirven para comparar valores, el valor retornado será siempre del tipo True o False. \n",
        "\n",
        "Operadores de comparación más comunes: **<, >, ==, >=, <=, !=**."
      ]
    },
    {
      "cell_type": "code",
      "execution_count": null,
      "id": "2845817f",
      "metadata": {
        "id": "2845817f",
        "colab": {
          "base_uri": "https://localhost:8080/"
        },
        "outputId": "e311793f-d9b4-4755-aa1a-40a34f9700bb"
      },
      "outputs": [
        {
          "output_type": "execute_result",
          "data": {
            "text/plain": [
              "False"
            ]
          },
          "metadata": {},
          "execution_count": 51
        }
      ],
      "source": [
        "7>8"
      ]
    },
    {
      "cell_type": "code",
      "execution_count": null,
      "id": "fc1ac48a",
      "metadata": {
        "id": "fc1ac48a",
        "colab": {
          "base_uri": "https://localhost:8080/"
        },
        "outputId": "22ae4694-18c1-4fd4-8d9f-4c89e7f3da8a"
      },
      "outputs": [
        {
          "output_type": "stream",
          "name": "stdout",
          "text": [
            "True\n",
            "False\n"
          ]
        }
      ],
      "source": [
        "#en la primera linea se asigna a la variable name el valor 'Felipe'.\n",
        "#sin embargo en la segunda linea se pregunta si la variable name es igual a 'Felipe' \n",
        "\n",
        "name = 'Felipe'\n",
        "\n",
        "print(name == 'Felipe')\n",
        "print(name == 'Pedro')"
      ]
    },
    {
      "cell_type": "markdown",
      "id": "904328f2",
      "metadata": {
        "id": "904328f2"
      },
      "source": [
        "### Operadores Booleanos \n",
        "- `and`: `x and y` primero evalua `x`\n",
        "    * si `x` es `False`, se devuelve este valor\n",
        "    * en otro caso, se evalua `y` y se devuelve su valor\n",
        "    \n",
        "\n",
        "- `or`: `x or y` primero se evalua `x`\n",
        "    * si `x` is `True`, se devuelve este valor\n",
        "    * en otro caso, se evalua `y` y se devuelve su valor\n",
        "\n",
        "\n",
        "- `not`: devuelve `True` si la expresión es False, `False` en otro caso.    "
      ]
    },
    {
      "cell_type": "markdown",
      "id": "1b085677",
      "metadata": {
        "id": "1b085677"
      },
      "source": [
        "**AND**"
      ]
    },
    {
      "cell_type": "code",
      "execution_count": null,
      "id": "bc3f5928",
      "metadata": {
        "id": "bc3f5928",
        "colab": {
          "base_uri": "https://localhost:8080/"
        },
        "outputId": "5583c24a-8efd-433c-a2c8-f3ff84f9089a"
      },
      "outputs": [
        {
          "output_type": "stream",
          "name": "stdout",
          "text": [
            "True\n",
            "False\n",
            "False\n"
          ]
        }
      ],
      "source": [
        "print(True  and True)\n",
        "print(True  and False)\n",
        "print(False and False)"
      ]
    },
    {
      "cell_type": "markdown",
      "id": "1c9cf0b4",
      "metadata": {
        "id": "1c9cf0b4"
      },
      "source": [
        "**OR**"
      ]
    },
    {
      "cell_type": "code",
      "execution_count": null,
      "id": "d1652793",
      "metadata": {
        "id": "d1652793",
        "colab": {
          "base_uri": "https://localhost:8080/"
        },
        "outputId": "2566549e-a7cd-42ab-eadb-967fb0f400ba"
      },
      "outputs": [
        {
          "output_type": "stream",
          "name": "stdout",
          "text": [
            "True\n",
            "True\n",
            "False\n"
          ]
        }
      ],
      "source": [
        "print(True  or True)\n",
        "print(True  or False)\n",
        "print(False or False)"
      ]
    },
    {
      "cell_type": "markdown",
      "id": "0b77eb94",
      "metadata": {
        "id": "0b77eb94"
      },
      "source": [
        "**NOT**"
      ]
    },
    {
      "cell_type": "code",
      "execution_count": null,
      "id": "d693d008",
      "metadata": {
        "id": "d693d008",
        "colab": {
          "base_uri": "https://localhost:8080/"
        },
        "outputId": "d94e8847-cbb2-4fca-a1f2-afcb9d2eb1d2"
      },
      "outputs": [
        {
          "output_type": "execute_result",
          "data": {
            "text/plain": [
              "False"
            ]
          },
          "metadata": {},
          "execution_count": 55
        }
      ],
      "source": [
        "not(True and True)"
      ]
    },
    {
      "cell_type": "markdown",
      "id": "5d17c6e6",
      "metadata": {
        "id": "5d17c6e6"
      },
      "source": [
        "## CONDICIONALES\n",
        "\n",
        "Muchas veces necesitamos verificar condiciones y a partir del resultados de dichas condiciones ejecutar instrucciones. Por ejemplo, si quiero hacer un programa que dependiendo la edad de la persona emita un mensaje distinto, puedo utilizar el condicional **if:**     \n"
      ]
    },
    {
      "cell_type": "code",
      "execution_count": null,
      "id": "ba7ff076",
      "metadata": {
        "id": "ba7ff076",
        "colab": {
          "base_uri": "https://localhost:8080/"
        },
        "outputId": "351c9957-b82b-4754-d1e1-148102ae0ae6"
      },
      "outputs": [
        {
          "output_type": "stream",
          "name": "stdout",
          "text": [
            "¿Cuantos años tiene?10\n",
            "Es usted menor de edad\n",
            "fin del programa \n"
          ]
        }
      ],
      "source": [
        "edad = int(input(\"¿Cuantos años tiene?\"))\n",
        "\n",
        "if edad <18:\n",
        "    print(\"Es usted menor de edad\")\n",
        "else:     \n",
        "    print(\"Es usted mayor de edad\")\n",
        "\n",
        "print('fin del programa ')"
      ]
    },
    {
      "cell_type": "markdown",
      "id": "a2a1dfd2",
      "metadata": {
        "id": "a2a1dfd2"
      },
      "source": [
        "La expresión booleana despues del **if** es llamada **condición**. La condición siempre debe ser una expresión de tipo booleana y se debe finalizar con el simbolo **:**, a continuación va la instrucción que queremos que ejecute el programa cuando la condición es **True**. \n",
        "\n",
        "Por otro lado **else** es lo siguiente a ejecutar cuando la condición del **if** no se cumple (por tanto no se puede ejecutar un else sin previamente haber definido un if). Sin embargo, no es necesario agregar siempre una condicion del tipo **else**."
      ]
    },
    {
      "cell_type": "code",
      "execution_count": null,
      "id": "e2db12f6",
      "metadata": {
        "id": "e2db12f6",
        "colab": {
          "base_uri": "https://localhost:8080/"
        },
        "outputId": "c6d519dd-539a-43f1-8cf7-1ec17321fbcd"
      },
      "outputs": [
        {
          "output_type": "stream",
          "name": "stdout",
          "text": [
            "¿Cuantos años tiene?23\n",
            "fin del programa \n"
          ]
        }
      ],
      "source": [
        "edad = int(input(\"¿Cuantos años tiene?\"))\n",
        "\n",
        "if edad <18:\n",
        "    print(\"Es usted menor de edad\")\n",
        "\n",
        "print('fin del programa ')"
      ]
    },
    {
      "cell_type": "code",
      "execution_count": null,
      "id": "7ccb3b52",
      "metadata": {
        "id": "7ccb3b52",
        "colab": {
          "base_uri": "https://localhost:8080/",
          "height": 131
        },
        "outputId": "7b27b61c-e21b-48ef-a9d4-d13741654e4f"
      },
      "outputs": [
        {
          "output_type": "error",
          "ename": "SyntaxError",
          "evalue": "ignored",
          "traceback": [
            "\u001b[0;36m  File \u001b[0;32m\"<ipython-input-58-e130b5c03f5f>\"\u001b[0;36m, line \u001b[0;32m3\u001b[0m\n\u001b[0;31m    else:\u001b[0m\n\u001b[0m       ^\u001b[0m\n\u001b[0;31mSyntaxError\u001b[0m\u001b[0;31m:\u001b[0m invalid syntax\n"
          ]
        }
      ],
      "source": [
        "edad = int(input(\"¿Cuantos años tiene?\"))\n",
        "\n",
        "else:\n",
        "    print(Es usted menor de edad)\n",
        "    print('fin del programa ')"
      ]
    },
    {
      "cell_type": "markdown",
      "id": "4c38d7de",
      "metadata": {
        "id": "4c38d7de"
      },
      "source": [
        "En algunas ocasiones es necesario consultar por mas de dos opciones, por lo que las instrucciones **if** y **else** no son suficientes. En este caso usamos un condicional encadenado.   "
      ]
    },
    {
      "cell_type": "code",
      "execution_count": null,
      "id": "0d8a16e6",
      "metadata": {
        "id": "0d8a16e6",
        "colab": {
          "base_uri": "https://localhost:8080/"
        },
        "outputId": "1d15d55c-4886-4c10-ef8d-7737750beeca"
      },
      "outputs": [
        {
          "output_type": "stream",
          "name": "stdout",
          "text": [
            "valor de x: 1\n",
            "valor de y :1\n",
            "x & y son iguales\n"
          ]
        }
      ],
      "source": [
        "x= float(input(\"valor de x: \"))\n",
        "y= float(input(\"valor de y :\"))\n",
        "\n",
        "if x < y:\n",
        "    print('x es menor que y')\n",
        "elif x > y:\n",
        "    print('x es mayor que y')\n",
        "else:\n",
        "    print('x & y son iguales')"
      ]
    },
    {
      "cell_type": "markdown",
      "id": "03e845dd",
      "metadata": {
        "id": "03e845dd"
      },
      "source": [
        "No hay limite en el número de sentencias del tipo **elif**. Las sentencias **if** y **else** deben estar al inicio y al final del condicional respectivamente y la condición **else** no es necesaria."
      ]
    },
    {
      "cell_type": "code",
      "execution_count": null,
      "id": "90f1f4b3",
      "metadata": {
        "id": "90f1f4b3",
        "colab": {
          "base_uri": "https://localhost:8080/"
        },
        "outputId": "4dc14956-eb1f-48df-c436-a69fcce16ec7"
      },
      "outputs": [
        {
          "name": "stdout",
          "output_type": "stream",
          "text": [
            "valor de x: 1\n",
            "valor de y :1\n"
          ]
        }
      ],
      "source": [
        "x= float(input(\"valor de x: \"))\n",
        "y= float(input(\"valor de y :\"))\n",
        "\n",
        "if x < y:\n",
        "    print('x es menor que y')\n",
        "elif x > y:\n",
        "    print('x es mayor que y')"
      ]
    },
    {
      "cell_type": "markdown",
      "id": "70b5c785",
      "metadata": {
        "id": "70b5c785"
      },
      "source": [
        "## ITERACIONES: while y for\n",
        "\n",
        "Hay tareas que necesitamos se realicen de forma repetitiva, sin embargo no queremos duplicar codigo, en este caso son utiles las sentencias del tipo **while** y **for**. \n",
        "\n",
        "Por ejemplo: \n",
        "\n",
        "Supongamos que conozco la edad de un grupo de amigos: Luis=20, Andres=25 y Ricardo=11. Y quiero saber cual de ellos es el menor.\n",
        "\n",
        "Una forma ordenada de hacerlo puede ser utilizando un condicional encadenado, primero consultando en una pareja cual es el menor y dependiendo del resultado consultar nuevamente. En codigo esto es:\n",
        "\n"
      ]
    },
    {
      "cell_type": "code",
      "source": [
        "edad_luis=20\n",
        "edad_andres=25\n",
        "edad_ricardo=11\n",
        "\n",
        "menor=''\n",
        "\n",
        "#primero consultamos si luis es menor que andres, en caso afirmativo, necesitamos saber quien es menor entre Luis y Ricardo \n",
        "#para esto volvemos aa preguntar usando un if \n",
        "\n",
        "if edad_luis < edad_andres:\n",
        "  if edad_luis < edad_ricardo:\n",
        "    menor='Luis'\n",
        "    print('El menor del grupo de amigos es: ',menor)\n",
        "  else:\n",
        "    menor='Ricardo'\n",
        "    print('El menor del grupo de amigos es: ',menor)\n",
        "#por ultimo si luis no es menor que Andres, entonces nos queda averiguar quien es el menor entre Andres y Ricardo\n",
        "elif  edad_andres < edad_ricardo:\n",
        "  menor='Andres'\n",
        "  print('El menor del grupo de amigos es: ',menor)\n",
        "else:\n",
        "  menor='Ricardo'\n",
        "  print('El menor del grupo de amigos es: ',menor)"
      ],
      "metadata": {
        "colab": {
          "base_uri": "https://localhost:8080/"
        },
        "id": "4ebod5-4OUSD",
        "outputId": "cd13ab93-fb25-415c-eca6-b8b3fcabda62"
      },
      "id": "4ebod5-4OUSD",
      "execution_count": null,
      "outputs": [
        {
          "output_type": "stream",
          "name": "stdout",
          "text": [
            "El menor del grupo de amigos es:  Ricardo\n"
          ]
        }
      ]
    },
    {
      "cell_type": "markdown",
      "source": [
        "Sin embargo, a medida que crece el número de amigos del que se queira averiguar cual es el menor, este codigo se volverá complejo, incomodo de leer y no es escalable o generalizable.\n",
        "\n",
        "En este tipo de situaciones tiene sentido utilizar sentencias **while** y **for**."
      ],
      "metadata": {
        "id": "k1NSRXD6RIcD"
      },
      "id": "k1NSRXD6RIcD"
    },
    {
      "cell_type": "markdown",
      "id": "affc0d8f",
      "metadata": {
        "id": "affc0d8f"
      },
      "source": [
        "### while\n",
        "\n",
        "La forma de escritura es similar a la del **if**, a diferencia que al finalizar la instruccion que queremos que se cumpla cuando la condición es True se vuelve al paso 1 y se evalua nuevamente si la condición se sigue cumpliendo. Por ejemplo:\n"
      ]
    },
    {
      "cell_type": "code",
      "source": [
        "x=5\n",
        "while x>0:\n",
        "  print('El valor de x es:', x, 'y es mayor que cero')\n",
        "  x=x-1"
      ],
      "metadata": {
        "colab": {
          "base_uri": "https://localhost:8080/"
        },
        "id": "evJwda8zTheG",
        "outputId": "f4c05eb8-1463-454f-8168-51ecc6c0c257"
      },
      "id": "evJwda8zTheG",
      "execution_count": null,
      "outputs": [
        {
          "output_type": "stream",
          "name": "stdout",
          "text": [
            "El valor de x es: 5 y es mayor que cero\n",
            "El valor de x es: 4 y es mayor que cero\n",
            "El valor de x es: 3 y es mayor que cero\n",
            "El valor de x es: 2 y es mayor que cero\n",
            "El valor de x es: 1 y es mayor que cero\n"
          ]
        }
      ]
    },
    {
      "cell_type": "markdown",
      "source": [
        "Si queremos utilizar la sentencia **while** para el ejemplo en el que buscamos el menor de un grupo de chicos, una forma de hacerlo es la siguiente:"
      ],
      "metadata": {
        "id": "uRSwGC83UZqr"
      },
      "id": "uRSwGC83UZqr"
    },
    {
      "cell_type": "code",
      "source": [
        "edades=[20, 25, 11]\n",
        "amigos=['Luis', 'Andres', 'Ricardo']\n",
        "menor= ''\n",
        "\n",
        "while len(amigos) >= 2: \n",
        "  if edades[0] < edades[1]: \n",
        "    menor= amigos[0]\n",
        "    amigos.pop(1)\n",
        "    edades.pop(1)\n",
        "  else:\n",
        "    menor= amigos[1]\n",
        "    amigos.pop(0)\n",
        "    edades.pop(0)\n",
        "print('El menor del grupo de amigos es', menor )"
      ],
      "metadata": {
        "colab": {
          "base_uri": "https://localhost:8080/"
        },
        "id": "Wx0hVj4ncdwe",
        "outputId": "bebab5e4-866a-475c-c2e0-bd79a54f89f0"
      },
      "id": "Wx0hVj4ncdwe",
      "execution_count": null,
      "outputs": [
        {
          "output_type": "stream",
          "name": "stdout",
          "text": [
            "El menor del grupo de amigos es Ricardo\n"
          ]
        }
      ]
    },
    {
      "cell_type": "markdown",
      "source": [
        "Explicación del codigo anterior:"
      ],
      "metadata": {
        "id": "-z5TWxy9cjSb"
      },
      "id": "-z5TWxy9cjSb"
    },
    {
      "cell_type": "code",
      "source": [
        "#recordar que en python y en general en los lenguajes de programación se empieza a contar a partir del cero, por tanto el primer elemnto en una lista es lista[0]\n",
        "\n",
        "edades=[20, 25, 11]\n",
        "amigos=['Luis', 'Andres', 'Ricardo']\n",
        "menor= ''\n",
        "\n",
        "while len(amigos) >= 2: #voy a consultar siempre que en la lista de amigos tenga por lo menos dos elementos\n",
        "#pregunto siempre por la edad de los dos primeros amigos en la lista, si se cumple esta condicion, es decir, que el primero en la lista es el menor, entonces temporalmente\n",
        "#el primer amigo en la lista se asigna como el menor y se elimina de la lista el segundo  \n",
        "  if edades[0] < edades[1]: \n",
        "    menor= amigos[0]\n",
        "    amigos.pop(1) #elimina el segundo elemento de la lista amigos\n",
        "    edades.pop(1)\n",
        " #si por el contrario el menor es el segundo de los amigos en la lista, entonces se elimina el primero. \n",
        "  else:\n",
        "    menor= amigos[1]\n",
        "    amigos.pop(0) #elimina el primer elemento de la lista amigos\n",
        "    edades.pop(0)\n",
        "#esto se repite hasta que queden unicamente dos amigos en la lista y se imprime el resultado final fuera del while\n",
        "print('El menor del grupo de amigos es', menor )"
      ],
      "metadata": {
        "colab": {
          "base_uri": "https://localhost:8080/"
        },
        "id": "fMf0JccQU8gZ",
        "outputId": "bba9c8a7-88b0-4d7d-b0c8-5a129d283b27"
      },
      "id": "fMf0JccQU8gZ",
      "execution_count": null,
      "outputs": [
        {
          "output_type": "stream",
          "name": "stdout",
          "text": [
            "El menor del grupo de amigos es Ricardo\n"
          ]
        }
      ]
    },
    {
      "cell_type": "markdown",
      "source": [
        "Utilizando el **while** obtuvimos un codigo mucho mas corto y evitamos duplicaciones. Además, la mayor ventaja del codigo anterior es que es escalable cuando crece el número de personas que queremos comparar:"
      ],
      "metadata": {
        "id": "vaCn3RS5ZqB3"
      },
      "id": "vaCn3RS5ZqB3"
    },
    {
      "cell_type": "code",
      "source": [
        "edades=[20, 25, 11, 10, 7, 31, 40]\n",
        "amigos=['Luis', 'Andres', 'Ricardo', 'Camilo', 'Fernando', 'Pedro', 'Santiago']\n",
        "menor= ''\n",
        "\n",
        "while len(amigos) >= 2:\n",
        "  if edades[0] < edades[1]:\n",
        "    menor= amigos[0]\n",
        "    amigos.pop(1)\n",
        "    edades.pop(1)\n",
        "  else:\n",
        "    menor= amigos[1]\n",
        "    amigos.pop(0)\n",
        "    edades.pop(0)\n",
        "print('El menor del grupo de amigos es', menor )"
      ],
      "metadata": {
        "colab": {
          "base_uri": "https://localhost:8080/"
        },
        "id": "QwkCuH35Z2x7",
        "outputId": "5d8b67a7-d8e6-43de-d193-57feadf8d66e"
      },
      "id": "QwkCuH35Z2x7",
      "execution_count": null,
      "outputs": [
        {
          "output_type": "stream",
          "name": "stdout",
          "text": [
            "El menor del grupo de amigos es Fernando\n"
          ]
        }
      ]
    },
    {
      "cell_type": "markdown",
      "source": [
        "Note que para que evitar crear un ciclo infinito al usar un while es fundamental que en el cuerpo (en la instrucción) se vaya cambiando el valor de la variable que se evalua en la condición, hasta que esta en algun punto sea False. \n",
        "\n",
        "En el ejemplo anterior la variable que va cambiando es **len(amigos)**, pues con cada iteración se elimina un elmento de la lista y de esa forma conseguimos no tener un ciclo infinito.\n"
      ],
      "metadata": {
        "id": "UK--an1CdRAz"
      },
      "id": "UK--an1CdRAz"
    },
    {
      "cell_type": "markdown",
      "source": [
        "### For\n",
        "\n",
        "Al igual que la sentencia **while**, el **for** sirve para ejecutar instrucciones de manera repetitiva. Sin embargo como se menciono antes, si la condición evaluada en el **while** es siempre **True** se obtiene un ciclo infinito. Por tanto para evitar este tipo de situaciones existe el **for** donde se ejecuta de forma iterativa una instrucción pero en un número finito y definido de pasos    \n"
      ],
      "metadata": {
        "id": "sNOQrkQPgFPR"
      },
      "id": "sNOQrkQPgFPR"
    },
    {
      "cell_type": "code",
      "source": [
        "edades=[20, 25, 11, 10, 7, 31, 40]\n",
        "for i in edades:\n",
        "  print(i)"
      ],
      "metadata": {
        "colab": {
          "base_uri": "https://localhost:8080/"
        },
        "id": "WG7yKevD1l0J",
        "outputId": "5450509a-746a-40d7-f187-48ea4a310e26"
      },
      "id": "WG7yKevD1l0J",
      "execution_count": null,
      "outputs": [
        {
          "output_type": "stream",
          "name": "stdout",
          "text": [
            "20\n",
            "25\n",
            "11\n",
            "10\n",
            "7\n",
            "31\n",
            "40\n"
          ]
        }
      ]
    },
    {
      "cell_type": "markdown",
      "source": [
        "Para la función **for** NO SE EVALÚA una condición (como si se hace en el if y en el while). En este caso se recorre un conjunto de elementos, y se ejecuta una accion a través de tantas iteraciones como elementos hay en el conjunto.\n",
        "\n",
        "El ejemplo anterior de encontrar en el conjunto de amigos el de menor edad, también se puede resolver utilizando un for, de hecho, es mas eficiente en codigo."
      ],
      "metadata": {
        "id": "GT8xWLyC1vJM"
      },
      "id": "GT8xWLyC1vJM"
    },
    {
      "cell_type": "code",
      "source": [
        "edades=[20, 25, 11]\n",
        "amigos=['Luis', 'Andres', 'Ricardo']\n",
        "menor=''\n",
        "\n",
        "for i in range(len(edades)): \n",
        "  if menor=='' or edades[i] < menor_edad: \n",
        "    menor_edad = edades[i]\n",
        "    menor= amigos[i]\n",
        "print('El menor del grupo de amigos es', menor )"
      ],
      "metadata": {
        "colab": {
          "base_uri": "https://localhost:8080/"
        },
        "id": "d3Wwgogp3ac-",
        "outputId": "87834742-a91a-4ecb-d2c0-2c2d93133522"
      },
      "id": "d3Wwgogp3ac-",
      "execution_count": null,
      "outputs": [
        {
          "output_type": "stream",
          "name": "stdout",
          "text": [
            "El menor del grupo de amigos es Ricardo\n"
          ]
        }
      ]
    },
    {
      "cell_type": "markdown",
      "source": [
        "De nuevo, la función es escalable a un conjunto mas grande sin necesidad de alterar el codigo. \n",
        "\n",
        "Se pueden agregar prints en medio de los ciclos para entender que valores se obtienen durante la ejecución de cada paso, pero esto solo es recomendable mientras se está probando el codigo para entender si funciona bien, pues de mantenerlo siempre el codigo sería ineficiente y muy costoso computacionalmente cuando se recorra un ciclo muy largo. "
      ],
      "metadata": {
        "id": "PRcT-n9c8JMv"
      },
      "id": "PRcT-n9c8JMv"
    },
    {
      "cell_type": "code",
      "source": [
        "edades=[20, 25, 11, 10, 7, 31, 40]\n",
        "amigos=['Luis', 'Andres', 'Ricardo', 'Camilo', 'Fernando', 'Pedro', 'Santiago']\n",
        "menor=''\n",
        "\n",
        "for i in range(len(edades)): \n",
        "  if menor=='' or edades[i] < menor_edad: \n",
        "    menor_edad = edades[i]\n",
        "    menor= amigos[i]\n",
        "  print('el menor hasta este paso es:', menor)  \n",
        "\n",
        "print('\\nEl menor del grupo de amigos es', menor )"
      ],
      "metadata": {
        "colab": {
          "base_uri": "https://localhost:8080/"
        },
        "id": "3slL3djX7u4y",
        "outputId": "302f1175-6fca-4848-c282-9c1eb1a2ea3d"
      },
      "id": "3slL3djX7u4y",
      "execution_count": null,
      "outputs": [
        {
          "output_type": "stream",
          "name": "stdout",
          "text": [
            "el menor hasta este paso es: Luis\n",
            "el menor hasta este paso es: Luis\n",
            "el menor hasta este paso es: Ricardo\n",
            "el menor hasta este paso es: Camilo\n",
            "el menor hasta este paso es: Fernando\n",
            "el menor hasta este paso es: Fernando\n",
            "el menor hasta este paso es: Fernando\n",
            "\n",
            "El menor del grupo de amigos es Fernando\n"
          ]
        }
      ]
    },
    {
      "cell_type": "markdown",
      "id": "53e2feef",
      "metadata": {
        "id": "53e2feef"
      },
      "source": [
        "## FUNCIONES\n",
        "\n",
        "A medida que vamos generando código vamos creando secuencias que pueden ser utiles en más de una ocasión. Para esto podemos definir funciones que encapsulen cierto codigo y permita que lo llamemos mas adelante de forma breve. Una función es una secuencia de pasos a las que se le asigna un nombre.\n",
        "\n",
        "Supongamos que se hace util más adelante conocer quién es el menor de un grupo de amigos, cuando nos dan una lista con los nombres y otra con las edades. \n",
        "\n",
        "Utilizando el código anterior definimos la función de la forma:\n",
        "\n",
        "\n",
        "\n",
        ">**def** *name_function(param_a, param_b)*:\n",
        ">> \\# *cuerpo de la función*\n",
        "\n",
        ">> return *valor_a_devovler*"
      ]
    },
    {
      "cell_type": "code",
      "execution_count": null,
      "id": "ba146180",
      "metadata": {
        "id": "ba146180"
      },
      "outputs": [],
      "source": [
        "def menor_amigos(lista_amigos, lista_edades):\n",
        "  menor=''\n",
        "\n",
        "  for i in range(len(lista_edades)): \n",
        "    if menor=='' or lista_edades[i] < menor_edad: \n",
        "      menor_edad = lista_edades[i]\n",
        "      menor= lista_amigos[i]\n",
        "  return print('\\nEl menor del grupo de amigos es', menor )"
      ]
    },
    {
      "cell_type": "code",
      "source": [
        "menor_amigos( ['Luis', 'Andres', 'Ricardo'], [20, 25, 11])"
      ],
      "metadata": {
        "colab": {
          "base_uri": "https://localhost:8080/"
        },
        "id": "JmOc9zEKAsh0",
        "outputId": "4f396120-c186-4b83-9b5d-95ea79bbecee"
      },
      "id": "JmOc9zEKAsh0",
      "execution_count": null,
      "outputs": [
        {
          "output_type": "stream",
          "name": "stdout",
          "text": [
            "\n",
            "El menor del grupo de amigos es Ricardo\n"
          ]
        }
      ]
    },
    {
      "cell_type": "code",
      "source": [
        "menor_amigos( ['Andres', 'Ricardo'], [25, 11])"
      ],
      "metadata": {
        "colab": {
          "base_uri": "https://localhost:8080/"
        },
        "id": "omKwcMf4A_3Z",
        "outputId": "4564b203-1de6-47dd-c343-8f8b4ae751d5"
      },
      "id": "omKwcMf4A_3Z",
      "execution_count": null,
      "outputs": [
        {
          "output_type": "stream",
          "name": "stdout",
          "text": [
            "\n",
            "El menor del grupo de amigos es Ricardo\n"
          ]
        }
      ]
    },
    {
      "cell_type": "code",
      "source": [
        "x= ['a', 'b', 'c' , 'd', 'e']\n",
        "y= [11, 12, 3, 5, 7]\n",
        "\n",
        "menor_amigos(x , y)"
      ],
      "metadata": {
        "colab": {
          "base_uri": "https://localhost:8080/"
        },
        "id": "yCu9I9KcBFsK",
        "outputId": "5705932c-884e-43db-b354-74ebb5972015"
      },
      "id": "yCu9I9KcBFsK",
      "execution_count": null,
      "outputs": [
        {
          "output_type": "stream",
          "name": "stdout",
          "text": [
            "\n",
            "El menor del grupo de amigos es c\n"
          ]
        }
      ]
    },
    {
      "cell_type": "markdown",
      "id": "69173de9",
      "metadata": {
        "id": "69173de9"
      },
      "source": [
        "## ANEXOS\n"
      ]
    },
    {
      "cell_type": "markdown",
      "id": "770f7985",
      "metadata": {
        "id": "770f7985"
      },
      "source": [
        "https://es.coursera.org/specializations/python\n",
        "\n",
        "https://www.py4e.com/book\n",
        "\n",
        "http://do1.dr-chuck.com/pythonlearn/EN_us/pythonlearn.pdf\n",
        "\n",
        "\n",
        "https://pythontutor.com/"
      ]
    }
  ],
  "metadata": {
    "kernelspec": {
      "display_name": "Python 3",
      "language": "python",
      "name": "python3"
    },
    "language_info": {
      "codemirror_mode": {
        "name": "ipython",
        "version": 3
      },
      "file_extension": ".py",
      "mimetype": "text/x-python",
      "name": "python",
      "nbconvert_exporter": "python",
      "pygments_lexer": "ipython3",
      "version": "3.8.8"
    },
    "colab": {
      "name": "Introducción a Python.ipynb",
      "provenance": [],
      "collapsed_sections": [],
      "include_colab_link": true
    }
  },
  "nbformat": 4,
  "nbformat_minor": 5
}